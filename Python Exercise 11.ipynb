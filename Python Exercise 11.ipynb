{
 "cells": [
  {
   "cell_type": "code",
   "execution_count": 1,
   "id": "e118d9d9",
   "metadata": {},
   "outputs": [
    {
     "name": "stdout",
     "output_type": "stream",
     "text": [
      "2\n",
      "4\n",
      "6\n",
      "8\n",
      "10\n",
      "12\n",
      "14\n",
      "16\n",
      "18\n",
      "20\n",
      "22\n",
      "24\n",
      "26\n",
      "28\n",
      "30\n",
      "32\n",
      "34\n",
      "36\n",
      "38\n",
      "40\n",
      "42\n",
      "44\n",
      "46\n",
      "48\n",
      "50\n",
      "52\n"
     ]
    }
   ],
   "source": [
    "numbers = 1\n",
    "count = 0\n",
    "while count<=25:\n",
    "    if numbers%2==0:\n",
    "        print(numbers)\n",
    "        count+=1\n",
    "    numbers+=1"
   ]
  },
  {
   "cell_type": "code",
   "execution_count": 2,
   "id": "750eb65d",
   "metadata": {},
   "outputs": [
    {
     "name": "stdout",
     "output_type": "stream",
     "text": [
      "1\n",
      "3\n",
      "5\n",
      "7\n",
      "9\n",
      "11\n",
      "13\n",
      "15\n",
      "17\n",
      "19\n",
      "21\n",
      "23\n",
      "25\n",
      "27\n",
      "29\n",
      "31\n",
      "33\n",
      "35\n",
      "37\n",
      "39\n",
      "41\n",
      "43\n",
      "45\n",
      "47\n",
      "49\n",
      "51\n"
     ]
    }
   ],
   "source": [
    "numbers = 1\n",
    "count = 0\n",
    "while count<=25:\n",
    "    if numbers%2!=0:\n",
    "        print(numbers)\n",
    "        count+=1\n",
    "    numbers+=1"
   ]
  },
  {
   "cell_type": "code",
   "execution_count": 4,
   "id": "47dfdefe",
   "metadata": {},
   "outputs": [
    {
     "name": "stdout",
     "output_type": "stream",
     "text": [
      "2\n",
      "3\n",
      "5\n",
      "7\n",
      "11\n",
      "13\n",
      "17\n",
      "19\n",
      "23\n",
      "29\n",
      "31\n",
      "37\n",
      "41\n",
      "43\n",
      "47\n",
      "53\n",
      "59\n",
      "61\n",
      "67\n",
      "71\n",
      "73\n",
      "79\n",
      "83\n",
      "89\n",
      "97\n",
      "101\n"
     ]
    }
   ],
   "source": [
    "numbers = 2\n",
    "count = 0\n",
    "while count<=25:\n",
    "    for i in range(2,numbers):\n",
    "        if numbers%i==0:\n",
    "            break\n",
    "    else:\n",
    "        print(numbers)\n",
    "        count+=1\n",
    "    numbers+=1"
   ]
  },
  {
   "cell_type": "code",
   "execution_count": 5,
   "id": "c01882d0",
   "metadata": {},
   "outputs": [
    {
     "name": "stdout",
     "output_type": "stream",
     "text": [
      "enter the year value:2024\n",
      "this year is a leap year:\n"
     ]
    }
   ],
   "source": [
    "year = int(input(\"enter the year value:\"))\n",
    "if year%4==0 and year%100!=0:\n",
    "    print(\"this year is a leap year:\")\n",
    "elif year%100==0 and year%400==0:\n",
    "    print(\"this year is a leap year:\")\n",
    "else:\n",
    "    print(\"this year is not a leap year:\")"
   ]
  },
  {
   "cell_type": "markdown",
   "id": "1742a6c3",
   "metadata": {},
   "source": [
    "a = 0\n",
    "b = 1\n",
    "num = int(input(\"enter the numbers:\"))\n",
    "if num ==1:\n",
    "    print(a)\n",
    "else:\n",
    "    print(a)\n",
    "    print(b)\n",
    "    for i in range(1,num):\n",
    "        c = a+b\n",
    "        a = b\n",
    "        b = c\n",
    "        print(c)"
   ]
  },
  {
   "cell_type": "code",
   "execution_count": 8,
   "id": "ac57f2ea",
   "metadata": {},
   "outputs": [
    {
     "name": "stdout",
     "output_type": "stream",
     "text": [
      "enter the numbers:153\n",
      "this is a armstrong number:\n"
     ]
    }
   ],
   "source": [
    "num = int(input(\"enter the numbers:\"))\n",
    "sum = 0\n",
    "temp = num\n",
    "while temp>0:\n",
    "    digit = temp%10\n",
    "    cube = digit**3\n",
    "    sum = sum+cube\n",
    "    temp//=10\n",
    "    if sum==num:\n",
    "        print(\"this is a armstrong number:\")\n",
    "        break\n",
    "else:\n",
    "    print(\"this is not a armstrong number:\")"
   ]
  },
  {
   "cell_type": "code",
   "execution_count": 9,
   "id": "58af6534",
   "metadata": {},
   "outputs": [
    {
     "name": "stdout",
     "output_type": "stream",
     "text": [
      "enter the number:123456\n",
      "original number: 123456\n",
      "reverse_number: 654321\n"
     ]
    }
   ],
   "source": [
    "num = int(input(\"enter the number:\"))\n",
    "print(\"original number:\",num)\n",
    "a = num%10\n",
    "num = num//10\n",
    "b = num%10\n",
    "num = num//10\n",
    "c = num%10\n",
    "num = num//10\n",
    "d = num%10\n",
    "num = num//10\n",
    "e = num%10\n",
    "f = num//10\n",
    "rev = a*100000+b*10000+c*1000+d*100+e*10+f\n",
    "print(\"reverse_number:\",rev)"
   ]
  },
  {
   "cell_type": "code",
   "execution_count": 26,
   "id": "884cb2d4",
   "metadata": {},
   "outputs": [
    {
     "name": "stdout",
     "output_type": "stream",
     "text": [
      "enter the value of a:20\n",
      "enter the value of b:25\n",
      "your value of hcf: 5\n"
     ]
    }
   ],
   "source": [
    "a = int(input(\"enter the value of a:\"))\n",
    "b = int(input(\"enter the value of b:\"))\n",
    "while a%b!=0:\n",
    "    rem = a%b\n",
    "    a = b\n",
    "    b = rem\n",
    "print(\"your value of hcf:\",b)"
   ]
  },
  {
   "cell_type": "code",
   "execution_count": 27,
   "id": "32be43ba",
   "metadata": {},
   "outputs": [
    {
     "name": "stdout",
     "output_type": "stream",
     "text": [
      "5.0\n"
     ]
    }
   ],
   "source": [
    "print(a*b/hcf)"
   ]
  },
  {
   "cell_type": "code",
   "execution_count": 31,
   "id": "7e1bf74e",
   "metadata": {},
   "outputs": [
    {
     "name": "stdout",
     "output_type": "stream",
     "text": [
      "enter the value a:40\n",
      "enter the value b:15\n",
      "your hcf value: 5\n"
     ]
    }
   ],
   "source": [
    "a = int(input(\"enter the value a:\"))\n",
    "b = int(input(\"enter the value b:\"))\n",
    "while a%b!=0:\n",
    "    rem = a%b\n",
    "    a = b\n",
    "    b = rem\n",
    "    \n",
    "print(\"your hcf value:\",b)"
   ]
  },
  {
   "cell_type": "code",
   "execution_count": 37,
   "id": "61e7d6d8",
   "metadata": {},
   "outputs": [
    {
     "name": "stdout",
     "output_type": "stream",
     "text": [
      "7491 no ecnednepedni a tog tarahB\n"
     ]
    }
   ],
   "source": [
    "string = \"Bharat got a independence on 1947\"\n",
    "print(string[::-1])"
   ]
  },
  {
   "cell_type": "code",
   "execution_count": 40,
   "id": "79b95447",
   "metadata": {},
   "outputs": [
    {
     "name": "stdout",
     "output_type": "stream",
     "text": [
      "3\n"
     ]
    }
   ],
   "source": [
    "words = \"Bharat got a independence on 1947\"\n",
    "count = 0\n",
    "character = \"a\"\n",
    "for letter in words:\n",
    "    if character==letter:\n",
    "        count+=1\n",
    "print(count)"
   ]
  },
  {
   "cell_type": "code",
   "execution_count": 41,
   "id": "82556605",
   "metadata": {},
   "outputs": [
    {
     "name": "stdout",
     "output_type": "stream",
     "text": [
      "4\n"
     ]
    }
   ],
   "source": [
    "words = \"Bharat got a independence on 1947\"\n",
    "count = 0\n",
    "character = \"e\"\n",
    "for letter in words:\n",
    "    if character==letter:\n",
    "        count+=1\n",
    "print(count)\n",
    "        "
   ]
  },
  {
   "cell_type": "code",
   "execution_count": 43,
   "id": "bd693ad2",
   "metadata": {},
   "outputs": [
    {
     "name": "stdout",
     "output_type": "stream",
     "text": [
      "['sharks', 'jelly fish', 'star fish', 'whale', 'pirana']\n"
     ]
    }
   ],
   "source": [
    "animals = [\"sharks\",\"jelly fish\",\"star fish\",\"whale\",\"pirana\",\"octopus\"]\n",
    "lst1 = []\n",
    "for x in animals:\n",
    "    if x!= \"octopus\":\n",
    "        lst1.append(x)\n",
    "print(lst1)\n",
    "    "
   ]
  },
  {
   "cell_type": "code",
   "execution_count": 46,
   "id": "e774cd83",
   "metadata": {},
   "outputs": [],
   "source": [
    "animals = [\"sharks\",\"jelly fish\",\"star fish\",\"whale\",\"pirana\",\"octopus\"]\n",
    "animals.append(\"tiger sharks\")"
   ]
  },
  {
   "cell_type": "code",
   "execution_count": 48,
   "id": "c13f0d29",
   "metadata": {},
   "outputs": [
    {
     "name": "stdout",
     "output_type": "stream",
     "text": [
      "['sharks', 'jelly fish', 'star fish', 'whale', 'pirana', 'octopus', 'tiger sharks']\n"
     ]
    }
   ],
   "source": [
    "print(animals)"
   ]
  },
  {
   "cell_type": "code",
   "execution_count": 50,
   "id": "df2041b9",
   "metadata": {},
   "outputs": [
    {
     "name": "stdout",
     "output_type": "stream",
     "text": [
      "10\n"
     ]
    }
   ],
   "source": [
    "vowels = [\"a\",\"i\",\"o\",\"e\",\"u\"]\n",
    "words = \"Bharat got a independence on 1947\"\n",
    "count = 0\n",
    "for letter in words:\n",
    "    if letter in vowels:\n",
    "        count+=1\n",
    "print(count)"
   ]
  },
  {
   "cell_type": "code",
   "execution_count": 51,
   "id": "00d6b5a7",
   "metadata": {},
   "outputs": [],
   "source": [
    "lst1 = [1,2,3,4,5,5,6,7,8]\n",
    "lst2 = [2,3,4,5,1,19,16,18,11]\n"
   ]
  },
  {
   "cell_type": "code",
   "execution_count": 55,
   "id": "74c9bc90",
   "metadata": {},
   "outputs": [],
   "source": [
    "def remove_duplicates(lst2):\n",
    "    return list(dict.fromkeys(lst2))"
   ]
  },
  {
   "cell_type": "code",
   "execution_count": 56,
   "id": "9d2cf6ed",
   "metadata": {},
   "outputs": [
    {
     "data": {
      "text/plain": [
       "[2, 3, 4, 5, 1, 19, 16, 18, 11]"
      ]
     },
     "execution_count": 56,
     "metadata": {},
     "output_type": "execute_result"
    }
   ],
   "source": [
    "remove_duplicates(lst2)"
   ]
  },
  {
   "cell_type": "code",
   "execution_count": 62,
   "id": "8d728908",
   "metadata": {},
   "outputs": [],
   "source": [
    "def unique_items(lst1,lst2):\n",
    "    unique_lst = []\n",
    "    for items in lst1:\n",
    "        if items in lst2:\n",
    "            unique_lst.append(items)\n",
    "    return unique_lst"
   ]
  },
  {
   "cell_type": "code",
   "execution_count": 63,
   "id": "1cd0a30f",
   "metadata": {},
   "outputs": [],
   "source": [
    "lst1 = [1,2,3,4,5,5,6,7,8]\n",
    "lst2 = [2,3,4,5,1,19,16,18,11]\n"
   ]
  },
  {
   "cell_type": "code",
   "execution_count": 64,
   "id": "ce0105ad",
   "metadata": {},
   "outputs": [
    {
     "data": {
      "text/plain": [
       "[1, 2, 3, 4, 5, 5]"
      ]
     },
     "execution_count": 64,
     "metadata": {},
     "output_type": "execute_result"
    }
   ],
   "source": [
    "unique_items(lst1,lst2)"
   ]
  },
  {
   "cell_type": "code",
   "execution_count": 65,
   "id": "8968bb23",
   "metadata": {},
   "outputs": [],
   "source": [
    "result = lambda x, y : x+y"
   ]
  },
  {
   "cell_type": "code",
   "execution_count": 66,
   "id": "2a3c4d5d",
   "metadata": {},
   "outputs": [
    {
     "data": {
      "text/plain": [
       "6"
      ]
     },
     "execution_count": 66,
     "metadata": {},
     "output_type": "execute_result"
    }
   ],
   "source": [
    "result(2,4)"
   ]
  },
  {
   "cell_type": "code",
   "execution_count": 68,
   "id": "50503717",
   "metadata": {},
   "outputs": [],
   "source": [
    "def factorial(a):\n",
    "    if a ==0:\n",
    "        return 1\n",
    "    else:\n",
    "        return a*factorial(a-1)"
   ]
  },
  {
   "cell_type": "code",
   "execution_count": 69,
   "id": "36826a4e",
   "metadata": {},
   "outputs": [
    {
     "data": {
      "text/plain": [
       "24"
      ]
     },
     "execution_count": 69,
     "metadata": {},
     "output_type": "execute_result"
    }
   ],
   "source": [
    "factorial(4)"
   ]
  },
  {
   "cell_type": "code",
   "execution_count": 70,
   "id": "a8a288d4",
   "metadata": {},
   "outputs": [],
   "source": [
    "lst1 = [1,2,3,4,5,5,6,7,8]\n",
    "lst2 = [2,3,4,5,1,19,16,18,11]\n",
    "result = [x+y for x , y in zip(lst1,lst2)]"
   ]
  },
  {
   "cell_type": "code",
   "execution_count": 71,
   "id": "ad9dc4d5",
   "metadata": {},
   "outputs": [
    {
     "data": {
      "text/plain": [
       "[3, 5, 7, 9, 6, 24, 22, 25, 19]"
      ]
     },
     "execution_count": 71,
     "metadata": {},
     "output_type": "execute_result"
    }
   ],
   "source": [
    "result"
   ]
  },
  {
   "cell_type": "code",
   "execution_count": 81,
   "id": "efb0aa87",
   "metadata": {},
   "outputs": [
    {
     "name": "stdout",
     "output_type": "stream",
     "text": [
      "enter the numbers:57\n",
      "enter the numbers:82\n",
      "enter the numbers:64\n",
      "enter the numbers:69\n",
      "enter the numbers:74\n",
      "sum: 410\n",
      "average: 82.0\n",
      "57\n"
     ]
    }
   ],
   "source": [
    "class subject_marks:\n",
    "    english = int(input(\"enter the numbers:\"))\n",
    "    hindi = int(input(\"enter the numbers:\"))\n",
    "    science = int(input(\"enter the numbers:\"))\n",
    "    math = int(input(\"enter the numbers:\"))\n",
    "    social_science = int(input(\"enter the numbers:\"))\n",
    "    def p(self,evs):\n",
    "        sum = self.english+self.hindi+self.science+self.math+self.social_science+evs\n",
    "        average = sum/5\n",
    "        print(\"sum:\",sum)\n",
    "        print(\"average:\",average)\n",
    "        \n",
    "s = subject_marks()\n",
    "evs = 64\n",
    "s.p(evs)\n",
    "print(s.english)\n",
    "        "
   ]
  },
  {
   "cell_type": "code",
   "execution_count": 82,
   "id": "bfc0cad1",
   "metadata": {},
   "outputs": [
    {
     "name": "stdout",
     "output_type": "stream",
     "text": [
      "this is a parents class\n",
      "this is a child class\n"
     ]
    }
   ],
   "source": [
    "class parents:\n",
    "    def func1(self):\n",
    "        print(\"this is a parents class\")\n",
    "class child(parents):\n",
    "    def func2(self):\n",
    "        print(\"this is a child class\")\n",
    "        \n",
    "object = child()\n",
    "object.func1()\n",
    "object.func2()"
   ]
  },
  {
   "cell_type": "code",
   "execution_count": 84,
   "id": "655f2f3a",
   "metadata": {},
   "outputs": [
    {
     "name": "stdout",
     "output_type": "stream",
     "text": [
      "this is a parents class:\n",
      "this is a child class:\n"
     ]
    }
   ],
   "source": [
    "class Animal:\n",
    "    def p(self):\n",
    "        print(\"this is a parents class:\")\n",
    "class fox(Animal):\n",
    "    def func(self):\n",
    "        print(\"this is a child class:\")\n",
    "        \n",
    "object = fox()\n",
    "object.p()\n",
    "object.func()"
   ]
  },
  {
   "cell_type": "code",
   "execution_count": 87,
   "id": "67943340",
   "metadata": {},
   "outputs": [],
   "source": [
    "import pandas as pd"
   ]
  },
  {
   "cell_type": "code",
   "execution_count": 92,
   "id": "37ef2339",
   "metadata": {},
   "outputs": [],
   "source": [
    "data = pd.DataFrame( [[20,49,45] , [34,21,19]] , index = [\"Male\",\"Femal\"] , columns = [\"school_A\",\"school_B\",\"school_C\"])"
   ]
  },
  {
   "cell_type": "code",
   "execution_count": 93,
   "id": "a7a3355f",
   "metadata": {},
   "outputs": [
    {
     "data": {
      "text/html": [
       "<div>\n",
       "<style scoped>\n",
       "    .dataframe tbody tr th:only-of-type {\n",
       "        vertical-align: middle;\n",
       "    }\n",
       "\n",
       "    .dataframe tbody tr th {\n",
       "        vertical-align: top;\n",
       "    }\n",
       "\n",
       "    .dataframe thead th {\n",
       "        text-align: right;\n",
       "    }\n",
       "</style>\n",
       "<table border=\"1\" class=\"dataframe\">\n",
       "  <thead>\n",
       "    <tr style=\"text-align: right;\">\n",
       "      <th></th>\n",
       "      <th>school_A</th>\n",
       "      <th>school_B</th>\n",
       "      <th>school_C</th>\n",
       "    </tr>\n",
       "  </thead>\n",
       "  <tbody>\n",
       "    <tr>\n",
       "      <th>Male</th>\n",
       "      <td>20</td>\n",
       "      <td>49</td>\n",
       "      <td>45</td>\n",
       "    </tr>\n",
       "    <tr>\n",
       "      <th>Femal</th>\n",
       "      <td>34</td>\n",
       "      <td>21</td>\n",
       "      <td>19</td>\n",
       "    </tr>\n",
       "  </tbody>\n",
       "</table>\n",
       "</div>"
      ],
      "text/plain": [
       "       school_A  school_B  school_C\n",
       "Male         20        49        45\n",
       "Femal        34        21        19"
      ]
     },
     "execution_count": 93,
     "metadata": {},
     "output_type": "execute_result"
    }
   ],
   "source": [
    "data"
   ]
  },
  {
   "cell_type": "code",
   "execution_count": 101,
   "id": "cf040e36",
   "metadata": {},
   "outputs": [],
   "source": [
    "data = pd.DataFrame({\"Animal\":[\"Tiger\",\"Tiger\",\"Tortise\",\"Tortise\"] , \"Speed\": [150,150,20,20] , \"Top_speed\":[175,190,23,26]})"
   ]
  },
  {
   "cell_type": "code",
   "execution_count": 102,
   "id": "56298a15",
   "metadata": {},
   "outputs": [
    {
     "data": {
      "text/html": [
       "<div>\n",
       "<style scoped>\n",
       "    .dataframe tbody tr th:only-of-type {\n",
       "        vertical-align: middle;\n",
       "    }\n",
       "\n",
       "    .dataframe tbody tr th {\n",
       "        vertical-align: top;\n",
       "    }\n",
       "\n",
       "    .dataframe thead th {\n",
       "        text-align: right;\n",
       "    }\n",
       "</style>\n",
       "<table border=\"1\" class=\"dataframe\">\n",
       "  <thead>\n",
       "    <tr style=\"text-align: right;\">\n",
       "      <th></th>\n",
       "      <th>Animal</th>\n",
       "      <th>Speed</th>\n",
       "      <th>Top_speed</th>\n",
       "    </tr>\n",
       "  </thead>\n",
       "  <tbody>\n",
       "    <tr>\n",
       "      <th>0</th>\n",
       "      <td>Tiger</td>\n",
       "      <td>150</td>\n",
       "      <td>175</td>\n",
       "    </tr>\n",
       "    <tr>\n",
       "      <th>1</th>\n",
       "      <td>Tiger</td>\n",
       "      <td>150</td>\n",
       "      <td>190</td>\n",
       "    </tr>\n",
       "    <tr>\n",
       "      <th>2</th>\n",
       "      <td>Tortise</td>\n",
       "      <td>20</td>\n",
       "      <td>23</td>\n",
       "    </tr>\n",
       "    <tr>\n",
       "      <th>3</th>\n",
       "      <td>Tortise</td>\n",
       "      <td>20</td>\n",
       "      <td>26</td>\n",
       "    </tr>\n",
       "  </tbody>\n",
       "</table>\n",
       "</div>"
      ],
      "text/plain": [
       "    Animal  Speed  Top_speed\n",
       "0    Tiger    150        175\n",
       "1    Tiger    150        190\n",
       "2  Tortise     20         23\n",
       "3  Tortise     20         26"
      ]
     },
     "execution_count": 102,
     "metadata": {},
     "output_type": "execute_result"
    }
   ],
   "source": [
    "data"
   ]
  },
  {
   "cell_type": "code",
   "execution_count": 99,
   "id": "fc1675f4",
   "metadata": {},
   "outputs": [],
   "source": [
    "mean_value = data.groupby(\"Animal\")[\"Speed\"].mean()"
   ]
  },
  {
   "cell_type": "code",
   "execution_count": 100,
   "id": "ea9e2bd5",
   "metadata": {},
   "outputs": [
    {
     "data": {
      "text/plain": [
       "Animal\n",
       "Tiger      150.0\n",
       "Tortise     20.0\n",
       "Name: Speed, dtype: float64"
      ]
     },
     "execution_count": 100,
     "metadata": {},
     "output_type": "execute_result"
    }
   ],
   "source": [
    "mean_value"
   ]
  },
  {
   "cell_type": "code",
   "execution_count": 110,
   "id": "4a967317",
   "metadata": {},
   "outputs": [],
   "source": [
    "data = data.assign(speed_diff = (data[\"Top_speed\"]-data[\"Speed\"]))"
   ]
  },
  {
   "cell_type": "code",
   "execution_count": 111,
   "id": "63aee549",
   "metadata": {},
   "outputs": [
    {
     "data": {
      "text/html": [
       "<div>\n",
       "<style scoped>\n",
       "    .dataframe tbody tr th:only-of-type {\n",
       "        vertical-align: middle;\n",
       "    }\n",
       "\n",
       "    .dataframe tbody tr th {\n",
       "        vertical-align: top;\n",
       "    }\n",
       "\n",
       "    .dataframe thead th {\n",
       "        text-align: right;\n",
       "    }\n",
       "</style>\n",
       "<table border=\"1\" class=\"dataframe\">\n",
       "  <thead>\n",
       "    <tr style=\"text-align: right;\">\n",
       "      <th></th>\n",
       "      <th>Animal</th>\n",
       "      <th>Speed</th>\n",
       "      <th>Top_speed</th>\n",
       "      <th>speed_diff</th>\n",
       "    </tr>\n",
       "  </thead>\n",
       "  <tbody>\n",
       "    <tr>\n",
       "      <th>0</th>\n",
       "      <td>Tiger</td>\n",
       "      <td>150</td>\n",
       "      <td>175</td>\n",
       "      <td>25</td>\n",
       "    </tr>\n",
       "    <tr>\n",
       "      <th>1</th>\n",
       "      <td>Tiger</td>\n",
       "      <td>150</td>\n",
       "      <td>190</td>\n",
       "      <td>40</td>\n",
       "    </tr>\n",
       "    <tr>\n",
       "      <th>2</th>\n",
       "      <td>Tortise</td>\n",
       "      <td>20</td>\n",
       "      <td>23</td>\n",
       "      <td>3</td>\n",
       "    </tr>\n",
       "    <tr>\n",
       "      <th>3</th>\n",
       "      <td>Tortise</td>\n",
       "      <td>20</td>\n",
       "      <td>26</td>\n",
       "      <td>6</td>\n",
       "    </tr>\n",
       "  </tbody>\n",
       "</table>\n",
       "</div>"
      ],
      "text/plain": [
       "    Animal  Speed  Top_speed  speed_diff\n",
       "0    Tiger    150        175          25\n",
       "1    Tiger    150        190          40\n",
       "2  Tortise     20         23           3\n",
       "3  Tortise     20         26           6"
      ]
     },
     "execution_count": 111,
     "metadata": {},
     "output_type": "execute_result"
    }
   ],
   "source": [
    "data"
   ]
  },
  {
   "cell_type": "code",
   "execution_count": 112,
   "id": "2af8ed65",
   "metadata": {},
   "outputs": [],
   "source": [
    "data = pd.DataFrame({\"x\":range(1,101) , \"y\":[x**2 for x in range(1,101)]})"
   ]
  },
  {
   "cell_type": "code",
   "execution_count": 113,
   "id": "b56cae8a",
   "metadata": {},
   "outputs": [
    {
     "data": {
      "text/html": [
       "<div>\n",
       "<style scoped>\n",
       "    .dataframe tbody tr th:only-of-type {\n",
       "        vertical-align: middle;\n",
       "    }\n",
       "\n",
       "    .dataframe tbody tr th {\n",
       "        vertical-align: top;\n",
       "    }\n",
       "\n",
       "    .dataframe thead th {\n",
       "        text-align: right;\n",
       "    }\n",
       "</style>\n",
       "<table border=\"1\" class=\"dataframe\">\n",
       "  <thead>\n",
       "    <tr style=\"text-align: right;\">\n",
       "      <th></th>\n",
       "      <th>x</th>\n",
       "      <th>y</th>\n",
       "    </tr>\n",
       "  </thead>\n",
       "  <tbody>\n",
       "    <tr>\n",
       "      <th>0</th>\n",
       "      <td>1</td>\n",
       "      <td>1</td>\n",
       "    </tr>\n",
       "    <tr>\n",
       "      <th>1</th>\n",
       "      <td>2</td>\n",
       "      <td>4</td>\n",
       "    </tr>\n",
       "    <tr>\n",
       "      <th>2</th>\n",
       "      <td>3</td>\n",
       "      <td>9</td>\n",
       "    </tr>\n",
       "    <tr>\n",
       "      <th>3</th>\n",
       "      <td>4</td>\n",
       "      <td>16</td>\n",
       "    </tr>\n",
       "    <tr>\n",
       "      <th>4</th>\n",
       "      <td>5</td>\n",
       "      <td>25</td>\n",
       "    </tr>\n",
       "    <tr>\n",
       "      <th>...</th>\n",
       "      <td>...</td>\n",
       "      <td>...</td>\n",
       "    </tr>\n",
       "    <tr>\n",
       "      <th>95</th>\n",
       "      <td>96</td>\n",
       "      <td>9216</td>\n",
       "    </tr>\n",
       "    <tr>\n",
       "      <th>96</th>\n",
       "      <td>97</td>\n",
       "      <td>9409</td>\n",
       "    </tr>\n",
       "    <tr>\n",
       "      <th>97</th>\n",
       "      <td>98</td>\n",
       "      <td>9604</td>\n",
       "    </tr>\n",
       "    <tr>\n",
       "      <th>98</th>\n",
       "      <td>99</td>\n",
       "      <td>9801</td>\n",
       "    </tr>\n",
       "    <tr>\n",
       "      <th>99</th>\n",
       "      <td>100</td>\n",
       "      <td>10000</td>\n",
       "    </tr>\n",
       "  </tbody>\n",
       "</table>\n",
       "<p>100 rows × 2 columns</p>\n",
       "</div>"
      ],
      "text/plain": [
       "      x      y\n",
       "0     1      1\n",
       "1     2      4\n",
       "2     3      9\n",
       "3     4     16\n",
       "4     5     25\n",
       "..  ...    ...\n",
       "95   96   9216\n",
       "96   97   9409\n",
       "97   98   9604\n",
       "98   99   9801\n",
       "99  100  10000\n",
       "\n",
       "[100 rows x 2 columns]"
      ]
     },
     "execution_count": 113,
     "metadata": {},
     "output_type": "execute_result"
    }
   ],
   "source": [
    "data"
   ]
  },
  {
   "cell_type": "code",
   "execution_count": 114,
   "id": "c4863827",
   "metadata": {},
   "outputs": [
    {
     "name": "stdout",
     "output_type": "stream",
     "text": [
      "* * * * * \n",
      "* * * * * \n",
      "* * * * * \n",
      "* * * * * \n",
      "* * * * * \n"
     ]
    }
   ],
   "source": [
    "for i in range(5):\n",
    "    for j in range(5):\n",
    "        print(\"*\" , end = \" \")\n",
    "    print()"
   ]
  },
  {
   "cell_type": "code",
   "execution_count": 115,
   "id": "94c32691",
   "metadata": {},
   "outputs": [
    {
     "name": "stdout",
     "output_type": "stream",
     "text": [
      "* * * * * \n",
      "* * * * \n",
      "* * * \n",
      "* * \n",
      "* \n"
     ]
    }
   ],
   "source": [
    "for i in range(5):\n",
    "    for j in range(5-i):\n",
    "        print(\"*\" , end = \" \")\n",
    "    print()"
   ]
  },
  {
   "cell_type": "code",
   "execution_count": 116,
   "id": "c0c30c07",
   "metadata": {},
   "outputs": [
    {
     "name": "stdout",
     "output_type": "stream",
     "text": [
      "* \n",
      "* * \n",
      "* * * \n",
      "* * * * \n",
      "* * * * * \n"
     ]
    }
   ],
   "source": [
    "for i in range(5):\n",
    "    for j in range(i+1):\n",
    "        print(\"*\" , end = \" \")\n",
    "    print()"
   ]
  },
  {
   "cell_type": "code",
   "execution_count": 123,
   "id": "3d10c07b",
   "metadata": {},
   "outputs": [
    {
     "name": "stdout",
     "output_type": "stream",
     "text": [
      "* * * * * \n",
      "*       * \n",
      "*       * \n",
      "*       * \n",
      "* * * * * \n"
     ]
    }
   ],
   "source": [
    "for i in range(5):\n",
    "    for j in range(5):\n",
    "        if (i==0 or i ==4 or j==0 or j==4):\n",
    "            print(\"*\" , end = \" \")\n",
    "        else:\n",
    "            print(\" \" , end = \" \")\n",
    "    print()"
   ]
  },
  {
   "cell_type": "code",
   "execution_count": 124,
   "id": "2698dd05",
   "metadata": {},
   "outputs": [
    {
     "name": "stdout",
     "output_type": "stream",
     "text": [
      "* * * \n",
      "*   * \n",
      "* * * \n"
     ]
    }
   ],
   "source": [
    "for i in range(3):\n",
    "    for j in range(3):\n",
    "        if (i==0 or i==2 or j ==0 or j==2):\n",
    "            print(\"*\" , end = \" \")\n",
    "        else:\n",
    "            print(\" \" ,  end = \" \")\n",
    "    print()"
   ]
  },
  {
   "cell_type": "code",
   "execution_count": 127,
   "id": "cf450b56",
   "metadata": {},
   "outputs": [
    {
     "name": "stdout",
     "output_type": "stream",
     "text": [
      "    * \n",
      "   * * \n",
      "  * * * \n",
      " * * * * \n",
      "* * * * * \n"
     ]
    }
   ],
   "source": [
    "for i in range(5):\n",
    "    for j in range(5-i-1):\n",
    "        print(\" \" , end = \"\")\n",
    "    for k in range(i+1):\n",
    "        print(\"*\" , end = \" \")\n",
    "    print()"
   ]
  },
  {
   "cell_type": "code",
   "execution_count": 128,
   "id": "a8ff2304",
   "metadata": {},
   "outputs": [
    {
     "name": "stdout",
     "output_type": "stream",
     "text": [
      "    * \n",
      "   * * \n",
      "  * * * \n",
      " * * * * \n",
      "* * * * * \n",
      "* * * * * \n",
      " * * * * \n",
      "  * * * \n",
      "   * * \n",
      "    * \n"
     ]
    }
   ],
   "source": [
    "for i in range(5):\n",
    "    for j in range(5-i-1):\n",
    "        print(\" \" , end = \"\")\n",
    "    for k in range(i+1):\n",
    "        print(\"*\" , end = \" \")\n",
    "    print()\n",
    "for i in range(5):\n",
    "    for j in range(i):\n",
    "        print(\" \" , end = \"\")\n",
    "    for k in range(5-i):\n",
    "        print(\"*\" , end = \" \")\n",
    "    print()"
   ]
  },
  {
   "cell_type": "code",
   "execution_count": 134,
   "id": "ecac2f7f",
   "metadata": {},
   "outputs": [
    {
     "name": "stdout",
     "output_type": "stream",
     "text": [
      "  * \n",
      " * * \n",
      "* * * \n",
      "* * * \n",
      " * * \n",
      "  * \n"
     ]
    }
   ],
   "source": [
    "for i in range(3):\n",
    "    for j in range(3-i-1):\n",
    "        print(\" \" , end = \"\")\n",
    "    for k in range(i+1):\n",
    "        print(\"*\" , end = \" \")\n",
    "    print()\n",
    "for i in range(3):\n",
    "    for j in range(i):\n",
    "        print(\" \" , end = \"\")\n",
    "    for k in range(3-i):\n",
    "        print(\"*\" , end = \" \")\n",
    "    print()\n",
    "    \n",
    "    \n",
    "    "
   ]
  },
  {
   "cell_type": "code",
   "execution_count": null,
   "id": "ce06a30c",
   "metadata": {},
   "outputs": [],
   "source": []
  }
 ],
 "metadata": {
  "kernelspec": {
   "display_name": "Python 3 (ipykernel)",
   "language": "python",
   "name": "python3"
  },
  "language_info": {
   "codemirror_mode": {
    "name": "ipython",
    "version": 3
   },
   "file_extension": ".py",
   "mimetype": "text/x-python",
   "name": "python",
   "nbconvert_exporter": "python",
   "pygments_lexer": "ipython3",
   "version": "3.10.9"
  }
 },
 "nbformat": 4,
 "nbformat_minor": 5
}
